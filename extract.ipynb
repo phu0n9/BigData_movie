{
  "nbformat": 4,
  "nbformat_minor": 0,
  "metadata": {
    "colab": {
      "name": "extract.ipynb",
      "provenance": [],
      "collapsed_sections": [],
      "include_colab_link": true
    },
    "kernelspec": {
      "name": "python3",
      "display_name": "Python 3"
    }
  },
  "cells": [
    {
      "cell_type": "markdown",
      "metadata": {
        "id": "view-in-github",
        "colab_type": "text"
      },
      "source": [
        "<a href=\"https://colab.research.google.com/github/phu0n9/BigData_movie/blob/master/extract.ipynb\" target=\"_parent\"><img src=\"https://colab.research.google.com/assets/colab-badge.svg\" alt=\"Open In Colab\"/></a>"
      ]
    },
    {
      "cell_type": "code",
      "metadata": {
        "id": "ykfDqLTVJz0l"
      },
      "source": [
        "# RMIT University in Vietnam\n",
        "# Course: EEET2574 Big Data in Engineering\n",
        "# Semester: 2020B\n",
        "# Assessment: Big Data Project\n",
        "# Authors: \n",
        "#   Tran Dam Quan           - s3678708\n",
        "#   Nguyen Huynh Anh Phuong - s3695662\n",
        "#   Le Nguyen Thien Phu     - s3639855\n",
        "#   Tran Phi                - s3636649\n",
        "# Date: 27/09/2020"
      ],
      "execution_count": null,
      "outputs": []
    },
    {
      "cell_type": "code",
      "metadata": {
        "id": "jMMuXh3R6ej3"
      },
      "source": [
        "import pandas as pd \n",
        "import numpy as np"
      ],
      "execution_count": null,
      "outputs": []
    },
    {
      "cell_type": "code",
      "metadata": {
        "id": "RMT00_l47GXA",
        "outputId": "98662141-13c0-445a-cfbc-b511ef92343b",
        "colab": {
          "base_uri": "https://localhost:8080/",
          "height": 206
        }
      },
      "source": [
        "name_df = pd.read_csv(\"/content/drive/My Drive/Colab Notebooks/Group Assignment/name.tsv\", delimiter=\"\\t\",low_memory=False)\n",
        "name_df = name_df.loc[:,('nconst','primaryName')]\n",
        "name_df = name_df.rename(columns={'nconst':'imdb_name_id'})\n",
        "name_df.head()"
      ],
      "execution_count": null,
      "outputs": [
        {
          "output_type": "execute_result",
          "data": {
            "text/html": [
              "<div>\n",
              "<style scoped>\n",
              "    .dataframe tbody tr th:only-of-type {\n",
              "        vertical-align: middle;\n",
              "    }\n",
              "\n",
              "    .dataframe tbody tr th {\n",
              "        vertical-align: top;\n",
              "    }\n",
              "\n",
              "    .dataframe thead th {\n",
              "        text-align: right;\n",
              "    }\n",
              "</style>\n",
              "<table border=\"1\" class=\"dataframe\">\n",
              "  <thead>\n",
              "    <tr style=\"text-align: right;\">\n",
              "      <th></th>\n",
              "      <th>imdb_name_id</th>\n",
              "      <th>primaryName</th>\n",
              "    </tr>\n",
              "  </thead>\n",
              "  <tbody>\n",
              "    <tr>\n",
              "      <th>0</th>\n",
              "      <td>nm0000001</td>\n",
              "      <td>Fred Astaire</td>\n",
              "    </tr>\n",
              "    <tr>\n",
              "      <th>1</th>\n",
              "      <td>nm0000002</td>\n",
              "      <td>Lauren Bacall</td>\n",
              "    </tr>\n",
              "    <tr>\n",
              "      <th>2</th>\n",
              "      <td>nm0000003</td>\n",
              "      <td>Brigitte Bardot</td>\n",
              "    </tr>\n",
              "    <tr>\n",
              "      <th>3</th>\n",
              "      <td>nm0000004</td>\n",
              "      <td>John Belushi</td>\n",
              "    </tr>\n",
              "    <tr>\n",
              "      <th>4</th>\n",
              "      <td>nm0000005</td>\n",
              "      <td>Ingmar Bergman</td>\n",
              "    </tr>\n",
              "  </tbody>\n",
              "</table>\n",
              "</div>"
            ],
            "text/plain": [
              "  imdb_name_id      primaryName\n",
              "0    nm0000001     Fred Astaire\n",
              "1    nm0000002    Lauren Bacall\n",
              "2    nm0000003  Brigitte Bardot\n",
              "3    nm0000004     John Belushi\n",
              "4    nm0000005   Ingmar Bergman"
            ]
          },
          "metadata": {
            "tags": []
          },
          "execution_count": 4
        }
      ]
    },
    {
      "cell_type": "code",
      "metadata": {
        "id": "cw8S7h_57f34",
        "outputId": "178df885-5f71-4360-b589-cb8abe96bb2c",
        "colab": {
          "base_uri": "https://localhost:8080/",
          "height": 206
        }
      },
      "source": [
        "title_df = pd.read_csv(\"/content/drive/My Drive/Colab Notebooks/Group Assignment/title.tsv\", delimiter=\"\\t\",low_memory=False)\n",
        "title_df = title_df[(title_df['category'] == 'actor') | (title_df['category'] == 'actress') | (title_df['category'] == 'director')| (title_df['category'] == 'writer')]\n",
        "title_df = title_df.drop(columns=['job','characters','ordering'])\n",
        "title_df = title_df.rename(columns={'tconst':'imdb_id','nconst':'imdb_name_id'})\n",
        "title_df.head()"
      ],
      "execution_count": null,
      "outputs": [
        {
          "output_type": "execute_result",
          "data": {
            "text/html": [
              "<div>\n",
              "<style scoped>\n",
              "    .dataframe tbody tr th:only-of-type {\n",
              "        vertical-align: middle;\n",
              "    }\n",
              "\n",
              "    .dataframe tbody tr th {\n",
              "        vertical-align: top;\n",
              "    }\n",
              "\n",
              "    .dataframe thead th {\n",
              "        text-align: right;\n",
              "    }\n",
              "</style>\n",
              "<table border=\"1\" class=\"dataframe\">\n",
              "  <thead>\n",
              "    <tr style=\"text-align: right;\">\n",
              "      <th></th>\n",
              "      <th>imdb_id</th>\n",
              "      <th>imdb_name_id</th>\n",
              "      <th>category</th>\n",
              "    </tr>\n",
              "  </thead>\n",
              "  <tbody>\n",
              "    <tr>\n",
              "      <th>1</th>\n",
              "      <td>tt0000001</td>\n",
              "      <td>nm0005690</td>\n",
              "      <td>director</td>\n",
              "    </tr>\n",
              "    <tr>\n",
              "      <th>3</th>\n",
              "      <td>tt0000002</td>\n",
              "      <td>nm0721526</td>\n",
              "      <td>director</td>\n",
              "    </tr>\n",
              "    <tr>\n",
              "      <th>5</th>\n",
              "      <td>tt0000003</td>\n",
              "      <td>nm0721526</td>\n",
              "      <td>director</td>\n",
              "    </tr>\n",
              "    <tr>\n",
              "      <th>9</th>\n",
              "      <td>tt0000004</td>\n",
              "      <td>nm0721526</td>\n",
              "      <td>director</td>\n",
              "    </tr>\n",
              "    <tr>\n",
              "      <th>11</th>\n",
              "      <td>tt0000005</td>\n",
              "      <td>nm0443482</td>\n",
              "      <td>actor</td>\n",
              "    </tr>\n",
              "  </tbody>\n",
              "</table>\n",
              "</div>"
            ],
            "text/plain": [
              "      imdb_id imdb_name_id  category\n",
              "1   tt0000001    nm0005690  director\n",
              "3   tt0000002    nm0721526  director\n",
              "5   tt0000003    nm0721526  director\n",
              "9   tt0000004    nm0721526  director\n",
              "11  tt0000005    nm0443482     actor"
            ]
          },
          "metadata": {
            "tags": []
          },
          "execution_count": 5
        }
      ]
    },
    {
      "cell_type": "code",
      "metadata": {
        "id": "tWflvwhEA4Ac"
      },
      "source": [
        "imdb_cast = pd.merge(title_df,name_df,how='inner',on='imdb_name_id')\n",
        "imdb_cast.to_csv(\"/content/drive/My Drive/Colab Notebooks/Group Assignment/cast.csv\",index=False)"
      ],
      "execution_count": null,
      "outputs": []
    },
    {
      "cell_type": "code",
      "metadata": {
        "id": "Di4uRZb7A1d8"
      },
      "source": [
        ""
      ],
      "execution_count": null,
      "outputs": []
    }
  ]
}